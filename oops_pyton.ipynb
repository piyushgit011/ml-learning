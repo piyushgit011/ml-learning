{
 "cells": [
  {
   "cell_type": "markdown",
   "metadata": {},
   "source": [
    "## constructors and magic methods\n"
   ]
  },
  {
   "cell_type": "code",
   "execution_count": 1,
   "metadata": {},
   "outputs": [
    {
     "name": "stdout",
     "output_type": "stream",
     "text": [
      "True\n"
     ]
    }
   ],
   "source": [
    "import csv\n",
    "\n",
    "\n",
    "class Item:\n",
    "    pay_rate = 0.8 #The pay rate after 20% discount \n",
    "    all = []\n",
    "    def __init__(self, name:str, price:float, quantity):\n",
    "        #Run validations to the recived arguments\n",
    "        assert price >= 0, f\"Price {price} is not greater than or equal to zero\"\n",
    "        assert quantity >= 0, f\"Quantity {quantity} is not greater than or equal to zero\"\n",
    "        \n",
    "        \n",
    "        #Assign to self object\n",
    "        self.name = name\n",
    "        self.price = price\n",
    "        self.quantity = quantity\n",
    "        \n",
    "        #Actions to execute\n",
    "        Item.all.append(self)\n",
    "        \n",
    "        \n",
    "    def calculate_total(self):\n",
    "        return self.price*self.quantity\n",
    "    \n",
    "    def apply_discount(self):\n",
    "        self.price = self.price * Item.pay_rate\n",
    "    \n",
    "    @classmethod    \n",
    "    def instantiate_from_csv(cls):\n",
    "           with open('pydata.csv', 'r') as f:\n",
    "               reader = csv.DictReader(f)\n",
    "               items = list(reader)\n",
    "               for item in items:\n",
    "                   Item(\n",
    "                       name=item.get('name'),\n",
    "                       price=int(item.get('price')),\n",
    "                       quantity=int(item.get('quantity')),\n",
    "                   )\n",
    "                   \n",
    "    @staticmethod\n",
    "    def is_integer(num):\n",
    "          #we will ocunt out the floats that are point zero\n",
    "          if isinstance(num,float):\n",
    "              #countout the floats that are point zero\n",
    "              return num.is_integer()             \n",
    "          elif isinstance(num, int):\n",
    "              return True\n",
    "          else:\n",
    "              return False\n",
    "              \n",
    "    def __repr__(self):\n",
    "        return f\"Item('{self.name}', '{self.price}', '{self.quantity}')\"\n",
    "    @property\n",
    "    def read_only(self):\n",
    "        return \"AAA\"\n",
    "    \n",
    "item1 = Item(\"phone\", 100, 10)\n",
    "item2 = Item(\"Laptop\", 1000, 3)\n",
    "item3 = Item(\"cable\", 108, 5)\n",
    "item4 = Item(\"Mouse\", 18, 3)\n",
    "item5 = Item(\"Keyboard\", 75, 5)\n",
    "\n",
    "print(Item.is_integer(7.0)) "
   ]
  },
  {
   "cell_type": "code",
   "execution_count": null,
   "metadata": {},
   "outputs": [],
   "source": [
    "# oops principle\n",
    "c"
   ]
  }
 ],
 "metadata": {
  "kernelspec": {
   "display_name": "Python 3 (ipykernel)",
   "language": "python",
   "name": "python3"
  },
  "language_info": {
   "codemirror_mode": {
    "name": "ipython",
    "version": 3
   },
   "file_extension": ".py",
   "mimetype": "text/x-python",
   "name": "python",
   "nbconvert_exporter": "python",
   "pygments_lexer": "ipython3",
   "version": "3.10.5"
  },
  "vscode": {
   "interpreter": {
    "hash": "369f2c481f4da34e4445cda3fffd2e751bd1c4d706f27375911949ba6bb62e1c"
   }
  }
 },
 "nbformat": 4,
 "nbformat_minor": 2
}
